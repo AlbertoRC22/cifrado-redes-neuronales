{
 "cells": [
  {
   "cell_type": "markdown",
   "id": "8a3dea5d-4fd1-4676-b420-2ae04e30f6ab",
   "metadata": {},
   "source": [
    "# Escenario 1.2. - Alice y Bob con clave\n",
    "\n",
    "En este escenario se cubre el caso en el que Alice cifra para Bob y Bob descifra los mensajes por medio de una clave.\n",
    "\n",
    "Se lleva a cabo un entrenamiento, una evaluación de los resultados y se dibuja una gráfica para ilustrarlos. Como se hacen muchas ejecuciones, se grafica el resultado obtenido en cada ejecución. Hay cierta variabilidad en los resultados al ser los pesos de las redes neuronales aleatorios, así como los mensajes generados en el entrenamiento y la evaluación."
   ]
  }
 ],
 "metadata": {
  "kernelspec": {
   "display_name": "Python 3 (ipykernel)",
   "language": "python",
   "name": "python3"
  },
  "language_info": {
   "codemirror_mode": {
    "name": "ipython",
    "version": 3
   },
   "file_extension": ".py",
   "mimetype": "text/x-python",
   "name": "python",
   "nbconvert_exporter": "python",
   "pygments_lexer": "ipython3",
   "version": "3.11.9"
  }
 },
 "nbformat": 4,
 "nbformat_minor": 5
}
