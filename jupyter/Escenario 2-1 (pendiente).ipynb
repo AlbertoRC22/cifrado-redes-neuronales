{
 "cells": [
  {
   "cell_type": "markdown",
   "id": "9795f92d-05bb-4f0e-8f97-89ca5f35aeb7",
   "metadata": {},
   "source": [
    "# Escenario 2.1 - Alice y Bob con clave\n",
    "\n",
    "En este escenario se cubre el caso en el que Alice cifra para Bob y Bob descifra los mensajes por medio de una clave. Sin embargo, se ha añadido un agente malicioso, Eve, que quiere interceptar la comunicación.\n",
    "\n",
    "Se lleva a cabo un entrenamiento, una evaluación de los resultados y se dibuja una gráfica para ilustrarlos. Como se hacen muchas ejecuciones, se grafica el resultado obtenido en cada ejecución. Hay cierta variabilidad en los resultados al ser los pesos de las redes neuronales aleatorios, así como los mensajes generados en el entrenamiento y la evaluación.\n",
    "\n",
    "Avisar del tiempo, una ejecución con las _epochs_ definidas por defecto (de 300 en 300 hasta llegar a 6000), puede tardar el triple que en los escenarios 1 debido al aumento en al complejidad del escenario."
   ]
  },
  {
   "cell_type": "markdown",
   "id": "24fbf194-b458-4c22-ac28-968ee188be4e",
   "metadata": {},
   "source": [
    "## Imports"
   ]
  },
  {
   "cell_type": "code",
   "execution_count": null,
   "id": "7d52ed6f-1fa1-4fde-98f4-21a8b34849d9",
   "metadata": {},
   "outputs": [],
   "source": [
    "from tensorflow.keras.models import Model, load_model\n",
    "from tensorflow.keras.layers import Input, Dense, Concatenate, Dropout\n",
    "from tensorflow.keras.regularizers import l2\n",
    "from tensorflow.keras.optimizers import Adam\n",
    "from tensorflow.keras.losses import BinaryCrossentropy\n",
    "\n",
    "from data_utils import generar_mensajes\n",
    "\n",
    "import numpy as np\n",
    "import time as t"
   ]
  },
  {
   "cell_type": "markdown",
   "id": "a2e658e3-28df-467c-8ba2-1ce147540387",
   "metadata": {},
   "source": [
    "## Las redes neuronales\n",
    "\n",
    "En esta sección definimos las redes a utilizar más adelante."
   ]
  },
  {
   "cell_type": "markdown",
   "id": "919880c0-465e-4c6e-a8f4-1fdd0e132606",
   "metadata": {},
   "source": [
    "**Alice**: Red neuronal que cifra los mensajes.\n",
    "1. Recibe como parámetro el número de bits de los mensajes que va a cifrar y entonces define la forma de entrada.\n",
    "2. Concatena el mensaje de entrada con al clave y eso es lo que se le pasa a la red, para cifrar así el mensaje.\n",
    "3. final_input va a recibir algo de la forma mensaje + clave, por lo que esta vez recibe una dupla.\n",
    "4. Va a tener dos capas, con 128 y 64 neuronas, que reciben la entrada de la anterior y usan la función de activación relu. _Dense_ quiere decir que la capa está completamente conectada con la anterior.\n",
    "\n",
    "La última capa tiene una función de activación lineal porque luego la va a procesar Bob. No es necesario que sea binaria todavía. Tiene también tantas neuronas como bits, porque se busca que saque el mensaje cifrado y, por último, la función kernel_regularizer ayuda a evitar el sobreajuste penalizando las capas, de forma a que afecta la función de pérdida/coste."
   ]
  },
  {
   "cell_type": "code",
   "execution_count": null,
   "id": "0259315b-8ff0-41fe-bd66-cfbabb836384",
   "metadata": {},
   "outputs": [],
   "source": [
    "def crear_modelo_alice(bits):\n",
    "    input_msg = Input(shape=(bits,), name='mensaje_original')\n",
    "\n",
    "    input_key = Input(shape=(bits,), name='clave_simetrica')\n",
    "    x = Concatenate()([input_msg, input_key])\n",
    "    final_input = [input_msg, input_key]\n",
    "\n",
    "    x = Dense(128, activation='relu')(x)\n",
    "    x = Dense(64, activation='relu')(x)\n",
    "    cifrado = Dense(bits, activation='linear', kernel_regularizer=l2(0.01))(x)\n",
    "    return Model(final_input, cifrado, name='Alice')"
   ]
  },
  {
   "cell_type": "markdown",
   "id": "4a3a40d6-ba17-4a7e-af6d-28d8660c3ead",
   "metadata": {},
   "source": [
    "**Bob**: Red neuronal que descifra los mensajes.\n",
    "Funciona parecido a Alice, salvo que tiene capas de 64 y 64 neuronas. \n",
    "Lo más destacable es que la función de activación de la última capa es, en este caso, la función sigmoide. La función sigmoide devuelve un valor entre 0 y 1 y esos son los valores que luego se procesan para inferir si la predicción es el valor 0 o el valor 1 en la reconstrucción.\n",
    "\n",
    "Como siempre, el mensaje cifrado y la clave se concatenan para llevar a cabo el descifrado.\n",
    "\n",
    "En este caso, cabe mencionar que, para evitar sobreajuste, se ha añadido un _dropout_."
   ]
  },
  {
   "cell_type": "code",
   "execution_count": null,
   "id": "fa29562a-056d-4dbc-9757-048f1987e1c4",
   "metadata": {},
   "outputs": [],
   "source": [
    "def crear_modelo_bob(bits):\n",
    "    input_cifrado = Input(shape=(bits,), name='mensaje_cifrado')\n",
    "    input_key = Input(shape=(bits,), name='clave_simetrica')\n",
    "    x = Concatenate()([input_cifrado, input_key])\n",
    "    final_input = [input_cifrado, input_key]\n",
    "    \n",
    "    \n",
    "    x = Dense(64, activation='relu')(x)\n",
    "    x = Dropout(0.2)(x)\n",
    "    x = Dense(64, activation='relu')(x)\n",
    "    reconstruido = Dense(bits, activation='sigmoid')(x)\n",
    "    return Model(final_input, reconstruido, name='Bob')"
   ]
  },
  {
   "cell_type": "markdown",
   "id": "8b270b14-7b4d-4943-8855-b73f7817f2da",
   "metadata": {},
   "source": [
    "**Eve**: Red neuronal que pretende interceptar los mensajes.\n",
    "Funciona como Bob, salvo que no recibe niguna clave, solo el mensaje cifrado."
   ]
  },
  {
   "cell_type": "code",
   "execution_count": null,
   "id": "1137f5c5-b072-40a3-b0b4-c6189427cd20",
   "metadata": {},
   "outputs": [],
   "source": [
    "def crear_modelo_eve(bits):\n",
    "    input_cifrado = Input(shape=(bits,), name=f'mensaje_cifrado_eve')\n",
    "    x = Dense(64, activation='relu')(input_cifrado)\n",
    "    x = Dropout(0.2)(x)\n",
    "    x = Dense(64, activation='relu')(x)\n",
    "    salida = Dense(bits, activation='sigmoid', name=f'mensaje_reconstruido_eve')(x)\n",
    "    return Model (input_cifrado, salida, name='Eve')"
   ]
  }
 ],
 "metadata": {
  "kernelspec": {
   "display_name": "Python 3 (ipykernel)",
   "language": "python",
   "name": "python3"
  },
  "language_info": {
   "codemirror_mode": {
    "name": "ipython",
    "version": 3
   },
   "file_extension": ".py",
   "mimetype": "text/x-python",
   "name": "python",
   "nbconvert_exporter": "python",
   "pygments_lexer": "ipython3",
   "version": "3.11.9"
  }
 },
 "nbformat": 4,
 "nbformat_minor": 5
}
